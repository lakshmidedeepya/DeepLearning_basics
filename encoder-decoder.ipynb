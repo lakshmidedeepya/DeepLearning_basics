{
 "cells": [
  {
   "cell_type": "code",
   "execution_count": 1,
   "id": "6096381a",
   "metadata": {
    "_cell_guid": "b1076dfc-b9ad-4769-8c92-a6c4dae69d19",
    "_uuid": "8f2839f25d086af736a60e9eeb907d3b93b6e0e5",
    "execution": {
     "iopub.execute_input": "2025-06-30T06:48:23.897641Z",
     "iopub.status.busy": "2025-06-30T06:48:23.897436Z",
     "iopub.status.idle": "2025-06-30T06:48:28.499629Z",
     "shell.execute_reply": "2025-06-30T06:48:28.498866Z"
    },
    "papermill": {
     "duration": 4.605945,
     "end_time": "2025-06-30T06:48:28.501088",
     "exception": false,
     "start_time": "2025-06-30T06:48:23.895143",
     "status": "completed"
    },
    "tags": []
   },
   "outputs": [],
   "source": [
    "import torch\n",
    "import torch.nn as nn\n",
    "\n",
    "# Dummy setup\n",
    "INPUT_DIM = 10   # input vocab size\n",
    "OUTPUT_DIM = 10  # output vocab size\n",
    "EMB_DIM = 8\n",
    "HID_DIM = 16\n",
    "BATCH_SIZE = 1\n",
    "\n",
    "# Encoder\n",
    "class Encoder(nn.Module):\n",
    "    def __init__(self, input_dim, emb_dim, hid_dim):\n",
    "        super().__init__()\n",
    "        self.embedding = nn.Embedding(input_dim, emb_dim)\n",
    "        self.rnn = nn.GRU(emb_dim, hid_dim,batch_first=True)\n",
    "\n",
    "    def forward(self, src):\n",
    "        embedded = self.embedding(src)\n",
    "        outputs, hidden = self.rnn(embedded)\n",
    "        return hidden  # final hidden state\n",
    "\n",
    "# Decoder (no attention)\n",
    "class Decoder(nn.Module):\n",
    "    def __init__(self, output_dim, emb_dim, hid_dim):\n",
    "        super().__init__()\n",
    "        self.embedding = nn.Embedding(output_dim, emb_dim)\n",
    "        self.rnn = nn.GRU(emb_dim, hid_dim,batch_first=True)\n",
    "        self.fc_out = nn.Linear(hid_dim, output_dim)\n",
    "\n",
    "    def forward(self, input, hidden):\n",
    "        input = input.unsqueeze(1)  # (1, batch_size)\n",
    "        embedded = self.embedding(input)\n",
    "        output, hidden = self.rnn(embedded, hidden)\n",
    "        prediction = self.fc_out(output.squeeze(1))\n",
    "        return prediction, hidden\n"
   ]
  },
  {
   "cell_type": "code",
   "execution_count": 2,
   "id": "1719325f",
   "metadata": {
    "execution": {
     "iopub.execute_input": "2025-06-30T06:48:28.504456Z",
     "iopub.status.busy": "2025-06-30T06:48:28.504170Z",
     "iopub.status.idle": "2025-06-30T06:48:28.668727Z",
     "shell.execute_reply": "2025-06-30T06:48:28.667951Z"
    },
    "papermill": {
     "duration": 0.167171,
     "end_time": "2025-06-30T06:48:28.669738",
     "exception": false,
     "start_time": "2025-06-30T06:48:28.502567",
     "status": "completed"
    },
    "tags": []
   },
   "outputs": [
    {
     "name": "stdout",
     "output_type": "stream",
     "text": [
      "Step 1, Output logits: tensor([[ 0.2996,  0.1627,  0.3123,  0.3613,  0.2641, -0.2629,  0.4856, -0.2422,\n",
      "         -0.1786,  0.1801]], grad_fn=<AddmmBackward0>)\n",
      "Step 2, Output logits: tensor([[ 0.2931,  0.0007,  0.3797,  0.2226,  0.2565, -0.3488,  0.5331, -0.1346,\n",
      "         -0.0955,  0.2163]], grad_fn=<AddmmBackward0>)\n"
     ]
    }
   ],
   "source": [
    "# Sample input/output (sequence of token indices)\n",
    "src = torch.tensor([[1, 3, 5, 7]], dtype=torch.long)  # shape (seq_len, batch_size)\n",
    "trg = torch.tensor([[1, 2, 3]], dtype=torch.long)\n",
    "\n",
    "encoder = Encoder(INPUT_DIM, EMB_DIM, HID_DIM)\n",
    "decoder = Decoder(OUTPUT_DIM, EMB_DIM, HID_DIM)\n",
    "\n",
    "hidden = encoder(src)  # encode source\n",
    "\n",
    "input_token = trg[:,0]\n",
    "for t in range(1, trg.shape[1]):\n",
    "    output, hidden = decoder(input_token, hidden)\n",
    "    print(f\"Step {t}, Output logits: {output}\")\n",
    "    input_token = trg[:,t]  # teacher forcing\n"
   ]
  }
 ],
 "metadata": {
  "kaggle": {
   "accelerator": "nvidiaTeslaT4",
   "dataSources": [],
   "dockerImageVersionId": 31041,
   "isGpuEnabled": true,
   "isInternetEnabled": true,
   "language": "python",
   "sourceType": "notebook"
  },
  "kernelspec": {
   "display_name": "Python 3",
   "language": "python",
   "name": "python3"
  },
  "language_info": {
   "codemirror_mode": {
    "name": "ipython",
    "version": 3
   },
   "file_extension": ".py",
   "mimetype": "text/x-python",
   "name": "python",
   "nbconvert_exporter": "python",
   "pygments_lexer": "ipython3",
   "version": "3.11.11"
  },
  "papermill": {
   "default_parameters": {},
   "duration": 11.327254,
   "end_time": "2025-06-30T06:48:30.849689",
   "environment_variables": {},
   "exception": null,
   "input_path": "__notebook__.ipynb",
   "output_path": "__notebook__.ipynb",
   "parameters": {},
   "start_time": "2025-06-30T06:48:19.522435",
   "version": "2.6.0"
  }
 },
 "nbformat": 4,
 "nbformat_minor": 5
}
