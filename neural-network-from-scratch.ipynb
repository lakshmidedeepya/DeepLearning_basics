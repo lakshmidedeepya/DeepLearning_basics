{
 "cells": [
  {
   "cell_type": "code",
   "execution_count": 1,
   "id": "d226bae2",
   "metadata": {
    "_cell_guid": "b1076dfc-b9ad-4769-8c92-a6c4dae69d19",
    "_uuid": "8f2839f25d086af736a60e9eeb907d3b93b6e0e5",
    "execution": {
     "iopub.execute_input": "2025-06-20T07:00:34.519633Z",
     "iopub.status.busy": "2025-06-20T07:00:34.519442Z",
     "iopub.status.idle": "2025-06-20T07:00:48.329877Z",
     "shell.execute_reply": "2025-06-20T07:00:48.329002Z"
    },
    "papermill": {
     "duration": 13.814727,
     "end_time": "2025-06-20T07:00:48.331140",
     "exception": false,
     "start_time": "2025-06-20T07:00:34.516413",
     "status": "completed"
    },
    "tags": []
   },
   "outputs": [
    {
     "name": "stderr",
     "output_type": "stream",
     "text": [
      "100%|██████████| 26.4M/26.4M [00:01<00:00, 20.5MB/s]\n",
      "100%|██████████| 29.5k/29.5k [00:00<00:00, 302kB/s]\n",
      "100%|██████████| 4.42M/4.42M [00:00<00:00, 5.63MB/s]\n",
      "100%|██████████| 5.15k/5.15k [00:00<00:00, 11.5MB/s]"
     ]
    },
    {
     "name": "stdout",
     "output_type": "stream",
     "text": [
      "FashionMNIST dataset loaded successfully!\n"
     ]
    },
    {
     "name": "stderr",
     "output_type": "stream",
     "text": [
      "\n"
     ]
    }
   ],
   "source": [
    "import torchvision\n",
    "import torchvision.transforms as transforms\n",
    "\n",
    "#Define transformations\n",
    "transform = transforms.Compose([transforms.ToTensor()])\n",
    "\n",
    "#Load training data\n",
    "train_dataset=torchvision.datasets.FashionMNIST(\n",
    "    root='/data',train=True,download=True,transform=transform\n",
    ")\n",
    "\n",
    "#Load testing data\n",
    "test_dataset=torchvision.datasets.FashionMNIST(\n",
    "    root='/data',train=False,download=True,transform=transform\n",
    ")\n",
    "print(\"FashionMNIST dataset loaded successfully!\")"
   ]
  },
  {
   "cell_type": "code",
   "execution_count": 2,
   "id": "77f60e17",
   "metadata": {
    "execution": {
     "iopub.execute_input": "2025-06-20T07:00:48.338144Z",
     "iopub.status.busy": "2025-06-20T07:00:48.337808Z",
     "iopub.status.idle": "2025-06-20T07:00:48.689221Z",
     "shell.execute_reply": "2025-06-20T07:00:48.688562Z"
    },
    "papermill": {
     "duration": 0.355902,
     "end_time": "2025-06-20T07:00:48.690269",
     "exception": false,
     "start_time": "2025-06-20T07:00:48.334367",
     "status": "completed"
    },
    "tags": []
   },
   "outputs": [
    {
     "data": {
      "image/png": "[encoded data removed]",
      "text/plain": [
       "<Figure size 1500x300 with 5 Axes>"
      ]
     },
     "metadata": {},
     "output_type": "display_data"
    }
   ],
   "source": [
    "import matplotlib.pyplot as plt\n",
    "import torch\n",
    "train_loader=torch.utils.data.DataLoader(train_dataset,batch_size=1,shuffle=False)\n",
    "test_loader=torch.utils.data.DataLoader(test_dataset,batch_size=1,shuffle=False)\n",
    "plt.figure(figsize=(15,3))\n",
    "\n",
    "for i,(image,label) in enumerate(train_dataset):\n",
    "    if i<5:\n",
    "        plt.subplot(1,5,i+1)\n",
    "        plt.imshow(image[0].squeeze(),cmap='gray')\n",
    "        plt.title(f\"Label:{label}\")\n",
    "        plt.axis('off')\n",
    "    else:\n",
    "        break\n",
    "\n",
    "plt.tight_layout()\n",
    "plt.show()\n"
   ]
  },
  {
   "cell_type": "code",
   "execution_count": 3,
   "id": "256fbea6",
   "metadata": {
    "execution": {
     "iopub.execute_input": "2025-06-20T07:00:48.697361Z",
     "iopub.status.busy": "2025-06-20T07:00:48.696899Z",
     "iopub.status.idle": "2025-06-20T07:00:48.701388Z",
     "shell.execute_reply": "2025-06-20T07:00:48.700812Z"
    },
    "papermill": {
     "duration": 0.008954,
     "end_time": "2025-06-20T07:00:48.702304",
     "exception": false,
     "start_time": "2025-06-20T07:00:48.693350",
     "status": "completed"
    },
    "tags": []
   },
   "outputs": [],
   "source": [
    "#MLP with input 784(28*28 flattened image),one hidden layer with 128 neurons and ReLU,output layer with 10 classes(one fr each clothing item)\n",
    "import torch.nn as nn\n",
    "import torch.nn.functional as F\n",
    "\n",
    "\n",
    "class FashionMNIST_MLP(nn.Module):\n",
    "    def __init__(self):\n",
    "        super().__init__()\n",
    "        self.flatten=nn.Flatten()\n",
    "        self.fc1=nn.Linear(28*28,128)#input to hidden\n",
    "        self.fc2=nn.Linear(128,10)#hidden to output\n",
    "\n",
    "    def forward(self,x):\n",
    "        x=self.flatten(x)\n",
    "        x=F.relu(self.fc1(x))\n",
    "        x=self.fc2(x) #x=self.fc2(F.relu(self.fc1(x)))\n",
    "        return x"
   ]
  },
  {
   "cell_type": "code",
   "execution_count": 4,
   "id": "ce96a84d",
   "metadata": {
    "execution": {
     "iopub.execute_input": "2025-06-20T07:00:48.708518Z",
     "iopub.status.busy": "2025-06-20T07:00:48.708346Z",
     "iopub.status.idle": "2025-06-20T07:00:48.963715Z",
     "shell.execute_reply": "2025-06-20T07:00:48.962951Z"
    },
    "papermill": {
     "duration": 0.260117,
     "end_time": "2025-06-20T07:00:48.965217",
     "exception": false,
     "start_time": "2025-06-20T07:00:48.705100",
     "status": "completed"
    },
    "tags": []
   },
   "outputs": [],
   "source": [
    "#define loss and optimizer\n",
    "model =FashionMNIST_MLP().to(\"cuda\" if torch.cuda.is_available() else \"cpu\")\n",
    "\n",
    "\n",
    "loss_fn=nn.CrossEntropyLoss()\n",
    "optimizer=torch.optim.SGD(model.parameters(),lr=0.01)\n"
   ]
  },
  {
   "cell_type": "code",
   "execution_count": 5,
   "id": "b1c3aa9b",
   "metadata": {
    "execution": {
     "iopub.execute_input": "2025-06-20T07:00:48.972314Z",
     "iopub.status.busy": "2025-06-20T07:00:48.972085Z",
     "iopub.status.idle": "2025-06-20T07:00:48.976391Z",
     "shell.execute_reply": "2025-06-20T07:00:48.975884Z"
    },
    "papermill": {
     "duration": 0.00897,
     "end_time": "2025-06-20T07:00:48.977418",
     "exception": false,
     "start_time": "2025-06-20T07:00:48.968448",
     "status": "completed"
    },
    "tags": []
   },
   "outputs": [],
   "source": [
    "#training loop\n",
    "def training_model(dataloader,model,loss_fn,optimizer,epoch_losses):\n",
    "    num_batches=len(dataloader)\n",
    "    model.train()\n",
    "    total_loss=0\n",
    "    \n",
    "    for batch,(X,y) in enumerate(dataloader):\n",
    "        X,y=X.to(model.fc1.weight.device),y.to(model.fc1.weight.device)\n",
    "\n",
    "        #forward pass\n",
    "        pred=model(X)\n",
    "        loss=loss_fn(pred,y)\n",
    "\n",
    "        #backward pass\n",
    "        optimizer.zero_grad()\n",
    "        loss.backward()\n",
    "        optimizer.step()\n",
    "\n",
    "        total_loss+=loss.item()   \n",
    "\n",
    "    avg_loss=total_loss/num_batches\n",
    "    epoch_losses.append(avg_loss)\n",
    "       "
   ]
  },
  {
   "cell_type": "code",
   "execution_count": 6,
   "id": "0f1886ff",
   "metadata": {
    "execution": {
     "iopub.execute_input": "2025-06-20T07:00:48.983915Z",
     "iopub.status.busy": "2025-06-20T07:00:48.983691Z",
     "iopub.status.idle": "2025-06-20T07:00:48.987927Z",
     "shell.execute_reply": "2025-06-20T07:00:48.987366Z"
    },
    "papermill": {
     "duration": 0.008644,
     "end_time": "2025-06-20T07:00:48.988993",
     "exception": false,
     "start_time": "2025-06-20T07:00:48.980349",
     "status": "completed"
    },
    "tags": []
   },
   "outputs": [],
   "source": [
    "#Evaluation\n",
    "def test_model(dataloader,model):\n",
    "    size=len(dataloader.dataset)\n",
    "    correct=0\n",
    "    model.eval()\n",
    "    with torch.no_grad():\n",
    "        for X,y in dataloader:\n",
    "            X,y=X.to(model.fc1.weight.device),y.to(model.fc1.weight.device)\n",
    "            pred=model(X)\n",
    "            correct+=(pred.argmax(1)==y).type(torch.float).sum().item()\n",
    "    accuracy=100*correct/size\n",
    "    print(f\"Test Accuracy {accuracy:>0.2f}%\")"
   ]
  },
  {
   "cell_type": "code",
   "execution_count": 7,
   "id": "fb6da8d8",
   "metadata": {
    "execution": {
     "iopub.execute_input": "2025-06-20T07:00:48.995322Z",
     "iopub.status.busy": "2025-06-20T07:00:48.995132Z",
     "iopub.status.idle": "2025-06-20T07:04:29.014213Z",
     "shell.execute_reply": "2025-06-20T07:04:29.013525Z"
    },
    "papermill": {
     "duration": 220.026367,
     "end_time": "2025-06-20T07:04:29.018249",
     "exception": false,
     "start_time": "2025-06-20T07:00:48.991882",
     "status": "completed"
    },
    "tags": []
   },
   "outputs": [
    {
     "name": "stdout",
     "output_type": "stream",
     "text": [
      "Epoch 1\n",
      "-----model----------\n",
      "Test Accuracy 83.81%\n",
      "Epoch 2\n",
      "-----model----------\n",
      "Test Accuracy 85.20%\n",
      "Epoch 3\n",
      "-----model----------\n",
      "Test Accuracy 86.15%\n"
     ]
    },
    {
     "data": {
      "image/png": "[encoded data removed]",
      "text/plain": [
       "<Figure size 800x500 with 1 Axes>"
      ]
     },
     "metadata": {},
     "output_type": "display_data"
    }
   ],
   "source": [
    "# train and eval for epochs\n",
    "epoch_losses=[]\n",
    "epochs=3\n",
    "for t in range(epochs):\n",
    "    print(f\"Epoch {t+1}\\n-----model----------\")\n",
    "    training_model(train_loader,model,loss_fn,optimizer,epoch_losses)\n",
    "    test_model(test_loader,model)\n",
    " \n",
    "\n",
    "#plotting loss\n",
    "plt.figure(figsize=(8,5))\n",
    "plt.plot(range(1,epochs+1),epoch_losses,marker='o',color='b')\n",
    "plt.title(\"Trianing Loss per Epoch\")\n",
    "plt.xlabel(\"Epoch\")\n",
    "plt.ylabel(\"Loss\")\n",
    "plt.grid(True)\n",
    "plt.show()\n",
    " "
   ]
  }
 ],
 "metadata": {
  "kaggle": {
   "accelerator": "nvidiaTeslaT4",
   "dataSources": [],
   "dockerImageVersionId": 31041,
   "isGpuEnabled": true,
   "isInternetEnabled": true,
   "language": "python",
   "sourceType": "notebook"
  },
  "kernelspec": {
   "display_name": "Python 3",
   "language": "python",
   "name": "python3"
  },
  "language_info": {
   "codemirror_mode": {
    "name": "ipython",
    "version": 3
   },
   "file_extension": ".py",
   "mimetype": "text/x-python",
   "name": "python",
   "nbconvert_exporter": "python",
   "pygments_lexer": "ipython3",
   "version": "3.11.11"
  },
  "papermill": {
   "default_parameters": {},
   "duration": 241.250497,
   "end_time": "2025-06-20T07:04:31.830822",
   "environment_variables": {},
   "exception": null,
   "input_path": "__notebook__.ipynb",
   "output_path": "__notebook__.ipynb",
   "parameters": {},
   "start_time": "2025-06-20T07:00:30.580325",
   "version": "2.6.0"
  }
 },
 "nbformat": 4,
 "nbformat_minor": 5
}
